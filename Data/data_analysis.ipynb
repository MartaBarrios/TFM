{
 "cells": [
  {
   "cell_type": "code",
   "execution_count": 11,
   "metadata": {
    "collapsed": false
   },
   "outputs": [],
   "source": [
    "import pandas as pd\n",
    "import numpy as np\n",
    "import matplotlib.pyplot as plt \n",
    "\n",
    "a_1 = pd.read_csv('listings.csv', index_col = 0)\n",
    "a_2 = pd.read_csv('listings2.csv', index_col = 0)\n",
    "a_3 = pd.read_csv('calendar.csv', index_col = 0)"
   ]
  },
  {
   "cell_type": "code",
   "execution_count": 12,
   "metadata": {
    "collapsed": false
   },
   "outputs": [
    {
     "data": {
      "text/html": [
       "<div>\n",
       "<table border=\"1\" class=\"dataframe\">\n",
       "  <thead>\n",
       "    <tr style=\"text-align: right;\">\n",
       "      <th></th>\n",
       "      <th>name</th>\n",
       "      <th>host_id</th>\n",
       "      <th>host_name</th>\n",
       "      <th>neighbourhood_group</th>\n",
       "      <th>neighbourhood</th>\n",
       "      <th>latitude</th>\n",
       "      <th>longitude</th>\n",
       "      <th>room_type</th>\n",
       "      <th>price</th>\n",
       "      <th>minimum_nights</th>\n",
       "      <th>number_of_reviews</th>\n",
       "      <th>last_review</th>\n",
       "      <th>reviews_per_month</th>\n",
       "      <th>calculated_host_listings_count</th>\n",
       "      <th>availability_365</th>\n",
       "    </tr>\n",
       "    <tr>\n",
       "      <th>id</th>\n",
       "      <th></th>\n",
       "      <th></th>\n",
       "      <th></th>\n",
       "      <th></th>\n",
       "      <th></th>\n",
       "      <th></th>\n",
       "      <th></th>\n",
       "      <th></th>\n",
       "      <th></th>\n",
       "      <th></th>\n",
       "      <th></th>\n",
       "      <th></th>\n",
       "      <th></th>\n",
       "      <th></th>\n",
       "      <th></th>\n",
       "    </tr>\n",
       "  </thead>\n",
       "  <tbody>\n",
       "    <tr>\n",
       "      <th>7328003</th>\n",
       "      <td>Bonito piso en lugar privilegiado</td>\n",
       "      <td>9205789</td>\n",
       "      <td>Alfonso</td>\n",
       "      <td>Centro</td>\n",
       "      <td>Palacio</td>\n",
       "      <td>40.411731</td>\n",
       "      <td>-3.713978</td>\n",
       "      <td>Entire home/apt</td>\n",
       "      <td>60</td>\n",
       "      <td>1</td>\n",
       "      <td>3</td>\n",
       "      <td>2015-09-21</td>\n",
       "      <td>3.00</td>\n",
       "      <td>2</td>\n",
       "      <td>343</td>\n",
       "    </tr>\n",
       "    <tr>\n",
       "      <th>6289024</th>\n",
       "      <td>Nice quiet room in La Latina</td>\n",
       "      <td>3305388</td>\n",
       "      <td>Esteban</td>\n",
       "      <td>Centro</td>\n",
       "      <td>Palacio</td>\n",
       "      <td>40.408333</td>\n",
       "      <td>-3.715059</td>\n",
       "      <td>Private room</td>\n",
       "      <td>25</td>\n",
       "      <td>1</td>\n",
       "      <td>1</td>\n",
       "      <td>2015-07-24</td>\n",
       "      <td>0.42</td>\n",
       "      <td>1</td>\n",
       "      <td>330</td>\n",
       "    </tr>\n",
       "    <tr>\n",
       "      <th>3778195</th>\n",
       "      <td>The Hat Madrid (Shared 8 Deluxe)</td>\n",
       "      <td>10940437</td>\n",
       "      <td>Alfonso</td>\n",
       "      <td>Centro</td>\n",
       "      <td>Palacio</td>\n",
       "      <td>40.414976</td>\n",
       "      <td>-3.708322</td>\n",
       "      <td>Shared room</td>\n",
       "      <td>22</td>\n",
       "      <td>1</td>\n",
       "      <td>12</td>\n",
       "      <td>2015-09-13</td>\n",
       "      <td>0.91</td>\n",
       "      <td>11</td>\n",
       "      <td>347</td>\n",
       "    </tr>\n",
       "    <tr>\n",
       "      <th>7056183</th>\n",
       "      <td>Nice room with privilege views</td>\n",
       "      <td>19558259</td>\n",
       "      <td>Ligia</td>\n",
       "      <td>Centro</td>\n",
       "      <td>Palacio</td>\n",
       "      <td>40.420020</td>\n",
       "      <td>-3.714583</td>\n",
       "      <td>Private room</td>\n",
       "      <td>45</td>\n",
       "      <td>1</td>\n",
       "      <td>0</td>\n",
       "      <td>NaN</td>\n",
       "      <td>NaN</td>\n",
       "      <td>1</td>\n",
       "      <td>335</td>\n",
       "    </tr>\n",
       "    <tr>\n",
       "      <th>6847125</th>\n",
       "      <td>HABITACIÓN PARA 2 CON TERRAZA</td>\n",
       "      <td>21039137</td>\n",
       "      <td>Clara</td>\n",
       "      <td>Centro</td>\n",
       "      <td>Palacio</td>\n",
       "      <td>40.413867</td>\n",
       "      <td>-3.710233</td>\n",
       "      <td>Private room</td>\n",
       "      <td>37</td>\n",
       "      <td>2</td>\n",
       "      <td>3</td>\n",
       "      <td>2015-07-12</td>\n",
       "      <td>1.00</td>\n",
       "      <td>1</td>\n",
       "      <td>0</td>\n",
       "    </tr>\n",
       "  </tbody>\n",
       "</table>\n",
       "</div>"
      ],
      "text/plain": [
       "                                      name   host_id host_name  \\\n",
       "id                                                               \n",
       "7328003  Bonito piso en lugar privilegiado   9205789   Alfonso   \n",
       "6289024       Nice quiet room in La Latina   3305388   Esteban   \n",
       "3778195   The Hat Madrid (Shared 8 Deluxe)  10940437   Alfonso   \n",
       "7056183     Nice room with privilege views  19558259     Ligia   \n",
       "6847125      HABITACIÓN PARA 2 CON TERRAZA  21039137     Clara   \n",
       "\n",
       "        neighbourhood_group neighbourhood   latitude  longitude  \\\n",
       "id                                                                \n",
       "7328003              Centro       Palacio  40.411731  -3.713978   \n",
       "6289024              Centro       Palacio  40.408333  -3.715059   \n",
       "3778195              Centro       Palacio  40.414976  -3.708322   \n",
       "7056183              Centro       Palacio  40.420020  -3.714583   \n",
       "6847125              Centro       Palacio  40.413867  -3.710233   \n",
       "\n",
       "               room_type  price  minimum_nights  number_of_reviews  \\\n",
       "id                                                                   \n",
       "7328003  Entire home/apt     60               1                  3   \n",
       "6289024     Private room     25               1                  1   \n",
       "3778195      Shared room     22               1                 12   \n",
       "7056183     Private room     45               1                  0   \n",
       "6847125     Private room     37               2                  3   \n",
       "\n",
       "        last_review  reviews_per_month  calculated_host_listings_count  \\\n",
       "id                                                                       \n",
       "7328003  2015-09-21               3.00                               2   \n",
       "6289024  2015-07-24               0.42                               1   \n",
       "3778195  2015-09-13               0.91                              11   \n",
       "7056183         NaN                NaN                               1   \n",
       "6847125  2015-07-12               1.00                               1   \n",
       "\n",
       "         availability_365  \n",
       "id                         \n",
       "7328003               343  \n",
       "6289024               330  \n",
       "3778195               347  \n",
       "7056183               335  \n",
       "6847125                 0  "
      ]
     },
     "execution_count": 12,
     "metadata": {},
     "output_type": "execute_result"
    }
   ],
   "source": [
    "a_1.head()"
   ]
  },
  {
   "cell_type": "code",
   "execution_count": 13,
   "metadata": {
    "collapsed": false
   },
   "outputs": [
    {
     "data": {
      "text/html": [
       "<div>\n",
       "<table border=\"1\" class=\"dataframe\">\n",
       "  <thead>\n",
       "    <tr style=\"text-align: right;\">\n",
       "      <th></th>\n",
       "      <th>listing_url</th>\n",
       "      <th>scrape_id</th>\n",
       "      <th>last_scraped</th>\n",
       "      <th>name</th>\n",
       "      <th>summary</th>\n",
       "      <th>space</th>\n",
       "      <th>description</th>\n",
       "      <th>experiences_offered</th>\n",
       "      <th>neighborhood_overview</th>\n",
       "      <th>notes</th>\n",
       "      <th>...</th>\n",
       "      <th>review_scores_value</th>\n",
       "      <th>requires_license</th>\n",
       "      <th>license</th>\n",
       "      <th>jurisdiction_names</th>\n",
       "      <th>instant_bookable</th>\n",
       "      <th>cancellation_policy</th>\n",
       "      <th>require_guest_profile_picture</th>\n",
       "      <th>require_guest_phone_verification</th>\n",
       "      <th>calculated_host_listings_count</th>\n",
       "      <th>reviews_per_month</th>\n",
       "    </tr>\n",
       "    <tr>\n",
       "      <th>id</th>\n",
       "      <th></th>\n",
       "      <th></th>\n",
       "      <th></th>\n",
       "      <th></th>\n",
       "      <th></th>\n",
       "      <th></th>\n",
       "      <th></th>\n",
       "      <th></th>\n",
       "      <th></th>\n",
       "      <th></th>\n",
       "      <th></th>\n",
       "      <th></th>\n",
       "      <th></th>\n",
       "      <th></th>\n",
       "      <th></th>\n",
       "      <th></th>\n",
       "      <th></th>\n",
       "      <th></th>\n",
       "      <th></th>\n",
       "      <th></th>\n",
       "      <th></th>\n",
       "    </tr>\n",
       "  </thead>\n",
       "  <tbody>\n",
       "    <tr>\n",
       "      <th>7328003</th>\n",
       "      <td>https://www.airbnb.com/rooms/7328003</td>\n",
       "      <td>20151002174606</td>\n",
       "      <td>2015-10-02</td>\n",
       "      <td>Bonito piso en lugar privilegiado</td>\n",
       "      <td>Piso de unos 80 metros cuadrados en Las Vistil...</td>\n",
       "      <td>NaN</td>\n",
       "      <td>Piso de unos 80 metros cuadrados en Las Vistil...</td>\n",
       "      <td>none</td>\n",
       "      <td>NaN</td>\n",
       "      <td>NaN</td>\n",
       "      <td>...</td>\n",
       "      <td>10.0</td>\n",
       "      <td>f</td>\n",
       "      <td>NaN</td>\n",
       "      <td>NaN</td>\n",
       "      <td>f</td>\n",
       "      <td>flexible</td>\n",
       "      <td>f</td>\n",
       "      <td>f</td>\n",
       "      <td>2</td>\n",
       "      <td>3.00</td>\n",
       "    </tr>\n",
       "    <tr>\n",
       "      <th>6289024</th>\n",
       "      <td>https://www.airbnb.com/rooms/6289024</td>\n",
       "      <td>20151002174606</td>\n",
       "      <td>2015-10-02</td>\n",
       "      <td>Nice quiet room in La Latina</td>\n",
       "      <td>I've got a functional extra room w/double bed ...</td>\n",
       "      <td>A  three bedroom apartment (94m sq) shared wit...</td>\n",
       "      <td>I've got a functional extra room w/double bed ...</td>\n",
       "      <td>none</td>\n",
       "      <td>Estarás a 7 minutos a pie de la Plaza Mayor y ...</td>\n",
       "      <td>Me gusta que la gente que venga aquí sea respe...</td>\n",
       "      <td>...</td>\n",
       "      <td>10.0</td>\n",
       "      <td>f</td>\n",
       "      <td>NaN</td>\n",
       "      <td>NaN</td>\n",
       "      <td>f</td>\n",
       "      <td>flexible</td>\n",
       "      <td>f</td>\n",
       "      <td>f</td>\n",
       "      <td>1</td>\n",
       "      <td>0.42</td>\n",
       "    </tr>\n",
       "    <tr>\n",
       "      <th>3778195</th>\n",
       "      <td>https://www.airbnb.com/rooms/3778195</td>\n",
       "      <td>20151002174606</td>\n",
       "      <td>2015-10-02</td>\n",
       "      <td>The Hat Madrid (Shared 8 Deluxe)</td>\n",
       "      <td>Un lugar con la ubicación perfecta para visita...</td>\n",
       "      <td>NaN</td>\n",
       "      <td>Un lugar con la ubicación perfecta para visita...</td>\n",
       "      <td>none</td>\n",
       "      <td>NaN</td>\n",
       "      <td>NaN</td>\n",
       "      <td>...</td>\n",
       "      <td>10.0</td>\n",
       "      <td>f</td>\n",
       "      <td>NaN</td>\n",
       "      <td>NaN</td>\n",
       "      <td>f</td>\n",
       "      <td>flexible</td>\n",
       "      <td>f</td>\n",
       "      <td>f</td>\n",
       "      <td>11</td>\n",
       "      <td>0.91</td>\n",
       "    </tr>\n",
       "    <tr>\n",
       "      <th>7056183</th>\n",
       "      <td>https://www.airbnb.com/rooms/7056183</td>\n",
       "      <td>20151002174606</td>\n",
       "      <td>2015-10-02</td>\n",
       "      <td>Nice room with privilege views</td>\n",
       "      <td>It's a bright room with wonderful views. You w...</td>\n",
       "      <td>Nice and bright room with incredible views to ...</td>\n",
       "      <td>It's a bright room with wonderful views. You w...</td>\n",
       "      <td>none</td>\n",
       "      <td>The flat is next to the Templo de Debod park, ...</td>\n",
       "      <td>NaN</td>\n",
       "      <td>...</td>\n",
       "      <td>NaN</td>\n",
       "      <td>f</td>\n",
       "      <td>NaN</td>\n",
       "      <td>NaN</td>\n",
       "      <td>f</td>\n",
       "      <td>flexible</td>\n",
       "      <td>f</td>\n",
       "      <td>f</td>\n",
       "      <td>1</td>\n",
       "      <td>NaN</td>\n",
       "    </tr>\n",
       "    <tr>\n",
       "      <th>6847125</th>\n",
       "      <td>https://www.airbnb.com/rooms/6847125</td>\n",
       "      <td>20151002174606</td>\n",
       "      <td>2015-10-02</td>\n",
       "      <td>HABITACIÓN PARA 2 CON TERRAZA</td>\n",
       "      <td>Habitación con balcón y muy luminosa. Casa con...</td>\n",
       "      <td>La habitación dispone de cama de matrimonio, c...</td>\n",
       "      <td>Habitación con balcón y muy luminosa. Casa con...</td>\n",
       "      <td>none</td>\n",
       "      <td>La ubicación del barrio de La Latina es perfec...</td>\n",
       "      <td>Cuarta planta sin ascensor.</td>\n",
       "      <td>...</td>\n",
       "      <td>9.0</td>\n",
       "      <td>f</td>\n",
       "      <td>NaN</td>\n",
       "      <td>NaN</td>\n",
       "      <td>f</td>\n",
       "      <td>flexible</td>\n",
       "      <td>f</td>\n",
       "      <td>f</td>\n",
       "      <td>1</td>\n",
       "      <td>1.00</td>\n",
       "    </tr>\n",
       "  </tbody>\n",
       "</table>\n",
       "<p>5 rows × 91 columns</p>\n",
       "</div>"
      ],
      "text/plain": [
       "                                  listing_url       scrape_id last_scraped  \\\n",
       "id                                                                           \n",
       "7328003  https://www.airbnb.com/rooms/7328003  20151002174606   2015-10-02   \n",
       "6289024  https://www.airbnb.com/rooms/6289024  20151002174606   2015-10-02   \n",
       "3778195  https://www.airbnb.com/rooms/3778195  20151002174606   2015-10-02   \n",
       "7056183  https://www.airbnb.com/rooms/7056183  20151002174606   2015-10-02   \n",
       "6847125  https://www.airbnb.com/rooms/6847125  20151002174606   2015-10-02   \n",
       "\n",
       "                                      name  \\\n",
       "id                                           \n",
       "7328003  Bonito piso en lugar privilegiado   \n",
       "6289024       Nice quiet room in La Latina   \n",
       "3778195   The Hat Madrid (Shared 8 Deluxe)   \n",
       "7056183     Nice room with privilege views   \n",
       "6847125      HABITACIÓN PARA 2 CON TERRAZA   \n",
       "\n",
       "                                                   summary  \\\n",
       "id                                                           \n",
       "7328003  Piso de unos 80 metros cuadrados en Las Vistil...   \n",
       "6289024  I've got a functional extra room w/double bed ...   \n",
       "3778195  Un lugar con la ubicación perfecta para visita...   \n",
       "7056183  It's a bright room with wonderful views. You w...   \n",
       "6847125  Habitación con balcón y muy luminosa. Casa con...   \n",
       "\n",
       "                                                     space  \\\n",
       "id                                                           \n",
       "7328003                                                NaN   \n",
       "6289024  A  three bedroom apartment (94m sq) shared wit...   \n",
       "3778195                                                NaN   \n",
       "7056183  Nice and bright room with incredible views to ...   \n",
       "6847125  La habitación dispone de cama de matrimonio, c...   \n",
       "\n",
       "                                               description  \\\n",
       "id                                                           \n",
       "7328003  Piso de unos 80 metros cuadrados en Las Vistil...   \n",
       "6289024  I've got a functional extra room w/double bed ...   \n",
       "3778195  Un lugar con la ubicación perfecta para visita...   \n",
       "7056183  It's a bright room with wonderful views. You w...   \n",
       "6847125  Habitación con balcón y muy luminosa. Casa con...   \n",
       "\n",
       "        experiences_offered  \\\n",
       "id                            \n",
       "7328003                none   \n",
       "6289024                none   \n",
       "3778195                none   \n",
       "7056183                none   \n",
       "6847125                none   \n",
       "\n",
       "                                     neighborhood_overview  \\\n",
       "id                                                           \n",
       "7328003                                                NaN   \n",
       "6289024  Estarás a 7 minutos a pie de la Plaza Mayor y ...   \n",
       "3778195                                                NaN   \n",
       "7056183  The flat is next to the Templo de Debod park, ...   \n",
       "6847125  La ubicación del barrio de La Latina es perfec...   \n",
       "\n",
       "                                                     notes        ...         \\\n",
       "id                                                                ...          \n",
       "7328003                                                NaN        ...          \n",
       "6289024  Me gusta que la gente que venga aquí sea respe...        ...          \n",
       "3778195                                                NaN        ...          \n",
       "7056183                                                NaN        ...          \n",
       "6847125                        Cuarta planta sin ascensor.        ...          \n",
       "\n",
       "        review_scores_value requires_license license jurisdiction_names  \\\n",
       "id                                                                        \n",
       "7328003                10.0                f     NaN                NaN   \n",
       "6289024                10.0                f     NaN                NaN   \n",
       "3778195                10.0                f     NaN                NaN   \n",
       "7056183                 NaN                f     NaN                NaN   \n",
       "6847125                 9.0                f     NaN                NaN   \n",
       "\n",
       "        instant_bookable  cancellation_policy require_guest_profile_picture  \\\n",
       "id                                                                            \n",
       "7328003                f             flexible                             f   \n",
       "6289024                f             flexible                             f   \n",
       "3778195                f             flexible                             f   \n",
       "7056183                f             flexible                             f   \n",
       "6847125                f             flexible                             f   \n",
       "\n",
       "        require_guest_phone_verification calculated_host_listings_count  \\\n",
       "id                                                                        \n",
       "7328003                                f                              2   \n",
       "6289024                                f                              1   \n",
       "3778195                                f                             11   \n",
       "7056183                                f                              1   \n",
       "6847125                                f                              1   \n",
       "\n",
       "        reviews_per_month  \n",
       "id                         \n",
       "7328003              3.00  \n",
       "6289024              0.42  \n",
       "3778195              0.91  \n",
       "7056183               NaN  \n",
       "6847125              1.00  \n",
       "\n",
       "[5 rows x 91 columns]"
      ]
     },
     "execution_count": 13,
     "metadata": {},
     "output_type": "execute_result"
    }
   ],
   "source": [
    "a_2.head()"
   ]
  },
  {
   "cell_type": "code",
   "execution_count": 14,
   "metadata": {
    "collapsed": false
   },
   "outputs": [
    {
     "data": {
      "text/html": [
       "<div>\n",
       "<table border=\"1\" class=\"dataframe\">\n",
       "  <thead>\n",
       "    <tr style=\"text-align: right;\">\n",
       "      <th></th>\n",
       "      <th>date</th>\n",
       "      <th>available</th>\n",
       "      <th>price</th>\n",
       "    </tr>\n",
       "    <tr>\n",
       "      <th>listing_id</th>\n",
       "      <th></th>\n",
       "      <th></th>\n",
       "      <th></th>\n",
       "    </tr>\n",
       "  </thead>\n",
       "  <tbody>\n",
       "    <tr>\n",
       "      <th>7328003</th>\n",
       "      <td>2015-10-02</td>\n",
       "      <td>f</td>\n",
       "      <td>NaN</td>\n",
       "    </tr>\n",
       "    <tr>\n",
       "      <th>7328003</th>\n",
       "      <td>2015-10-03</td>\n",
       "      <td>f</td>\n",
       "      <td>NaN</td>\n",
       "    </tr>\n",
       "    <tr>\n",
       "      <th>7328003</th>\n",
       "      <td>2015-10-04</td>\n",
       "      <td>f</td>\n",
       "      <td>NaN</td>\n",
       "    </tr>\n",
       "    <tr>\n",
       "      <th>7328003</th>\n",
       "      <td>2015-10-05</td>\n",
       "      <td>f</td>\n",
       "      <td>NaN</td>\n",
       "    </tr>\n",
       "    <tr>\n",
       "      <th>7328003</th>\n",
       "      <td>2015-10-06</td>\n",
       "      <td>f</td>\n",
       "      <td>NaN</td>\n",
       "    </tr>\n",
       "  </tbody>\n",
       "</table>\n",
       "</div>"
      ],
      "text/plain": [
       "                  date available price\n",
       "listing_id                            \n",
       "7328003     2015-10-02         f   NaN\n",
       "7328003     2015-10-03         f   NaN\n",
       "7328003     2015-10-04         f   NaN\n",
       "7328003     2015-10-05         f   NaN\n",
       "7328003     2015-10-06         f   NaN"
      ]
     },
     "execution_count": 14,
     "metadata": {},
     "output_type": "execute_result"
    }
   ],
   "source": [
    "a_3.head()"
   ]
  },
  {
   "cell_type": "code",
   "execution_count": 15,
   "metadata": {
    "collapsed": false
   },
   "outputs": [
    {
     "data": {
      "text/plain": [
       "array(['Entire home/apt', 'Private room', 'Shared room'], dtype=object)"
      ]
     },
     "execution_count": 15,
     "metadata": {},
     "output_type": "execute_result"
    }
   ],
   "source": [
    "a_1['room_type'].unique()"
   ]
  },
  {
   "cell_type": "code",
   "execution_count": 16,
   "metadata": {
    "collapsed": false
   },
   "outputs": [
    {
     "data": {
      "text/plain": [
       "array(['Centro', 'Arganzuela', 'Retiro', 'Salamanca', 'Chamartín',\n",
       "       'Moratalaz', 'Tetuán', 'Chamberí', 'Fuencarral - El Pardo',\n",
       "       'Moncloa - Aravaca', 'Puente de Vallecas', 'Latina', 'Carabanchel',\n",
       "       'Usera', 'Ciudad Lineal', 'Hortaleza', 'Villaverde',\n",
       "       'Villa de Vallecas', 'Vicálvaro', 'San Blas - Canillejas', 'Barajas'], dtype=object)"
      ]
     },
     "execution_count": 16,
     "metadata": {},
     "output_type": "execute_result"
    }
   ],
   "source": [
    "a_1['neighbourhood_group'].unique()"
   ]
  },
  {
   "cell_type": "code",
   "execution_count": 17,
   "metadata": {
    "collapsed": false
   },
   "outputs": [
    {
     "data": {
      "text/plain": [
       "array(['Palacio', 'Embajadores', 'Cortes', 'Justicia', 'Universidad',\n",
       "       'Sol', 'Imperial', 'Acacias', 'Chopera', 'Legazpi', 'Delicias',\n",
       "       'Palos de Moguer', 'Atocha', 'Pacífico', 'Adelfas', 'Estrella',\n",
       "       'Ibiza', 'Jerónimos', 'Niño Jesús', 'Recoletos', 'Goya',\n",
       "       'Fuente del Berro', 'Guindalera', 'Lista', 'Castellana', 'El Viso',\n",
       "       'Prosperidad', 'Pavones', 'Ciudad Jardín', 'Hispanoamérica',\n",
       "       'Nueva España', 'Castilla', 'Bellas Vistas', 'Cuatro Caminos',\n",
       "       'Castillejos', 'Vallehermoso', 'El Pardo', 'Almenara',\n",
       "       'Valdeacederas', 'Berruguete', 'Gaztambide', 'Arapiles',\n",
       "       'Trafalgar', 'Almagro', 'Rios Rosas', 'Fuentelareina', 'Peñagrande',\n",
       "       'Argüelles', 'Pilar', 'La Paz', 'Valdezarza', 'Valverde',\n",
       "       'Casa de Campo', 'Mirasierra', 'El Goloso', 'Horcajo',\n",
       "       'Ciudad Universitaria', 'Numancia', 'Valdemarín', 'El Plantío',\n",
       "       'Aravaca', 'Cármenes', 'Puerta del Angel', 'Lucero', 'Aluche',\n",
       "       'San Isidro', 'Campamento', 'Cuatro Vientos', 'Aguilas', 'Comillas',\n",
       "       'Opañel', 'Vista Alegre', 'Puerta Bonita', 'Buenavista', 'Abrantes',\n",
       "       'Orcasitas', 'Orcasur', 'San Fermín', 'Almendrales', 'Moscardó',\n",
       "       'Zofío', 'Pradolongo', 'Portazgo', 'Entrevías', 'San Diego',\n",
       "       'Palomeras Bajas', 'Palomeras Sureste', 'Marroquina', 'Media Legua',\n",
       "       'Fontarrón', 'Vinateros', 'Ventas', 'Pueblo Nuevo', 'Quintana',\n",
       "       'Concepción', 'San Pascual', 'San Juan Bautista', 'Colina',\n",
       "       'Costillares', 'Palomas', 'Piovera', 'Canillas', 'Pinar del Rey',\n",
       "       'Apostol Santiago', 'San Andrés', 'San Cristobal', 'Valdefuentes',\n",
       "       'Butarque', 'Los Rosales', 'Los Angeles',\n",
       "       'Casco Histórico de Vallecas', 'Casco Histórico de Vicálvaro',\n",
       "       'Ambroz', 'Simancas', 'Hellín', 'Amposta', 'Arcos', 'Rosas',\n",
       "       'Rejas', 'Canillejas', 'Salvador', 'Alameda de Osuna', 'Timón',\n",
       "       'Aeropuerto', 'Casco Histórico de Barajas', 'Corralejos'], dtype=object)"
      ]
     },
     "execution_count": 17,
     "metadata": {},
     "output_type": "execute_result"
    }
   ],
   "source": [
    "a_1['neighbourhood'].unique()"
   ]
  },
  {
   "cell_type": "code",
   "execution_count": 22,
   "metadata": {
    "collapsed": false
   },
   "outputs": [
    {
     "data": {
      "text/plain": [
       "3136"
      ]
     },
     "execution_count": 22,
     "metadata": {},
     "output_type": "execute_result"
    }
   ],
   "source": [
    "a_1['price'].max()"
   ]
  },
  {
   "cell_type": "code",
   "execution_count": 23,
   "metadata": {
    "collapsed": false
   },
   "outputs": [
    {
     "data": {
      "text/plain": [
       "9"
      ]
     },
     "execution_count": 23,
     "metadata": {},
     "output_type": "execute_result"
    }
   ],
   "source": [
    "a_1['price'].min()"
   ]
  },
  {
   "cell_type": "code",
   "execution_count": 24,
   "metadata": {
    "collapsed": false
   },
   "outputs": [
    {
     "data": {
      "text/plain": [
       "array([  1,   2,   3,   5,  20,   4,  28,  14,   7, 365,   6,  13,  10,\n",
       "        90,  15,   8,  30, 120,  21,  11, 180,  55, 250,  19,  16,   9,\n",
       "       300,  25,  12, 100,  60,  31])"
      ]
     },
     "execution_count": 24,
     "metadata": {},
     "output_type": "execute_result"
    }
   ],
   "source": [
    "a_1['minimum_nights'].unique()"
   ]
  },
  {
   "cell_type": "code",
   "execution_count": 30,
   "metadata": {
    "collapsed": false
   },
   "outputs": [
    {
     "data": {
      "text/plain": [
       "['listing_url',\n",
       " 'scrape_id',\n",
       " 'last_scraped',\n",
       " 'name',\n",
       " 'summary',\n",
       " 'space',\n",
       " 'description',\n",
       " 'experiences_offered',\n",
       " 'neighborhood_overview',\n",
       " 'notes',\n",
       " 'transit',\n",
       " 'thumbnail_url',\n",
       " 'medium_url',\n",
       " 'picture_url',\n",
       " 'xl_picture_url',\n",
       " 'host_id',\n",
       " 'host_url',\n",
       " 'host_name',\n",
       " 'host_since',\n",
       " 'host_location',\n",
       " 'host_about',\n",
       " 'host_response_time',\n",
       " 'host_response_rate',\n",
       " 'host_acceptance_rate',\n",
       " 'host_is_superhost',\n",
       " 'host_thumbnail_url',\n",
       " 'host_picture_url',\n",
       " 'host_neighbourhood',\n",
       " 'host_listings_count',\n",
       " 'host_total_listings_count',\n",
       " 'host_verifications',\n",
       " 'host_has_profile_pic',\n",
       " 'host_identity_verified',\n",
       " 'street',\n",
       " 'neighbourhood',\n",
       " 'neighbourhood_cleansed',\n",
       " 'neighbourhood_group_cleansed',\n",
       " 'city',\n",
       " 'state',\n",
       " 'zipcode',\n",
       " 'market',\n",
       " 'smart_location',\n",
       " 'country_code',\n",
       " 'country',\n",
       " 'latitude',\n",
       " 'longitude',\n",
       " 'is_location_exact',\n",
       " 'property_type',\n",
       " 'room_type',\n",
       " 'accommodates',\n",
       " 'bathrooms',\n",
       " 'bedrooms',\n",
       " 'beds',\n",
       " 'bed_type',\n",
       " 'amenities',\n",
       " 'square_feet',\n",
       " 'price',\n",
       " 'weekly_price',\n",
       " 'monthly_price',\n",
       " 'security_deposit',\n",
       " 'cleaning_fee',\n",
       " 'guests_included',\n",
       " 'extra_people',\n",
       " 'minimum_nights',\n",
       " 'maximum_nights',\n",
       " 'calendar_updated',\n",
       " 'has_availability',\n",
       " 'availability_30',\n",
       " 'availability_60',\n",
       " 'availability_90',\n",
       " 'availability_365',\n",
       " 'calendar_last_scraped',\n",
       " 'number_of_reviews',\n",
       " 'first_review',\n",
       " 'last_review',\n",
       " 'review_scores_rating',\n",
       " 'review_scores_accuracy',\n",
       " 'review_scores_cleanliness',\n",
       " 'review_scores_checkin',\n",
       " 'review_scores_communication',\n",
       " 'review_scores_location',\n",
       " 'review_scores_value',\n",
       " 'requires_license',\n",
       " 'license',\n",
       " 'jurisdiction_names',\n",
       " 'instant_bookable',\n",
       " 'cancellation_policy',\n",
       " 'require_guest_profile_picture',\n",
       " 'require_guest_phone_verification',\n",
       " 'calculated_host_listings_count',\n",
       " 'reviews_per_month']"
      ]
     },
     "execution_count": 30,
     "metadata": {},
     "output_type": "execute_result"
    }
   ],
   "source": [
    "list(a_2)"
   ]
  },
  {
   "cell_type": "code",
   "execution_count": null,
   "metadata": {
    "collapsed": true
   },
   "outputs": [],
   "source": []
  },
  {
   "cell_type": "code",
   "execution_count": 28,
   "metadata": {
    "collapsed": true
   },
   "outputs": [],
   "source": []
  },
  {
   "cell_type": "code",
   "execution_count": 7,
   "metadata": {
    "collapsed": true
   },
   "outputs": [],
   "source": []
  },
  {
   "cell_type": "code",
   "execution_count": 8,
   "metadata": {
    "collapsed": true
   },
   "outputs": [],
   "source": []
  },
  {
   "cell_type": "code",
   "execution_count": 9,
   "metadata": {
    "collapsed": true
   },
   "outputs": [],
   "source": []
  },
  {
   "cell_type": "code",
   "execution_count": 10,
   "metadata": {
    "collapsed": true
   },
   "outputs": [],
   "source": []
  },
  {
   "cell_type": "code",
   "execution_count": null,
   "metadata": {
    "collapsed": true
   },
   "outputs": [],
   "source": []
  },
  {
   "cell_type": "code",
   "execution_count": null,
   "metadata": {
    "collapsed": true
   },
   "outputs": [],
   "source": []
  },
  {
   "cell_type": "code",
   "execution_count": null,
   "metadata": {
    "collapsed": true
   },
   "outputs": [],
   "source": []
  },
  {
   "cell_type": "code",
   "execution_count": null,
   "metadata": {
    "collapsed": true
   },
   "outputs": [],
   "source": []
  },
  {
   "cell_type": "code",
   "execution_count": null,
   "metadata": {
    "collapsed": true
   },
   "outputs": [],
   "source": []
  },
  {
   "cell_type": "code",
   "execution_count": null,
   "metadata": {
    "collapsed": true
   },
   "outputs": [],
   "source": []
  },
  {
   "cell_type": "code",
   "execution_count": null,
   "metadata": {
    "collapsed": true
   },
   "outputs": [],
   "source": [
    "#Crear mapa de zonas por availability"
   ]
  },
  {
   "cell_type": "code",
   "execution_count": null,
   "metadata": {
    "collapsed": true
   },
   "outputs": [],
   "source": [
    "#Crear mapa de zonas por precio"
   ]
  },
  {
   "cell_type": "code",
   "execution_count": null,
   "metadata": {
    "collapsed": true
   },
   "outputs": [],
   "source": [
    "#Crear mapa de zonas por temporada"
   ]
  },
  {
   "cell_type": "code",
   "execution_count": null,
   "metadata": {
    "collapsed": true
   },
   "outputs": [],
   "source": [
    "#Comparar availability por temporada (marzo, junio y octubre)"
   ]
  },
  {
   "cell_type": "code",
   "execution_count": null,
   "metadata": {
    "collapsed": true
   },
   "outputs": [],
   "source": [
    "#Comparar precio por temporada"
   ]
  },
  {
   "cell_type": "code",
   "execution_count": null,
   "metadata": {
    "collapsed": true
   },
   "outputs": [],
   "source": []
  },
  {
   "cell_type": "code",
   "execution_count": null,
   "metadata": {
    "collapsed": true
   },
   "outputs": [],
   "source": []
  },
  {
   "cell_type": "code",
   "execution_count": null,
   "metadata": {
    "collapsed": true
   },
   "outputs": [],
   "source": []
  },
  {
   "cell_type": "code",
   "execution_count": null,
   "metadata": {
    "collapsed": true
   },
   "outputs": [],
   "source": []
  },
  {
   "cell_type": "code",
   "execution_count": null,
   "metadata": {
    "collapsed": true
   },
   "outputs": [],
   "source": []
  },
  {
   "cell_type": "code",
   "execution_count": null,
   "metadata": {
    "collapsed": true
   },
   "outputs": [],
   "source": []
  },
  {
   "cell_type": "code",
   "execution_count": null,
   "metadata": {
    "collapsed": true
   },
   "outputs": [],
   "source": []
  },
  {
   "cell_type": "code",
   "execution_count": null,
   "metadata": {
    "collapsed": true
   },
   "outputs": [],
   "source": []
  },
  {
   "cell_type": "code",
   "execution_count": null,
   "metadata": {
    "collapsed": true
   },
   "outputs": [],
   "source": []
  },
  {
   "cell_type": "code",
   "execution_count": null,
   "metadata": {
    "collapsed": true
   },
   "outputs": [],
   "source": []
  },
  {
   "cell_type": "code",
   "execution_count": null,
   "metadata": {
    "collapsed": true
   },
   "outputs": [],
   "source": []
  },
  {
   "cell_type": "code",
   "execution_count": null,
   "metadata": {
    "collapsed": true
   },
   "outputs": [],
   "source": []
  },
  {
   "cell_type": "code",
   "execution_count": null,
   "metadata": {
    "collapsed": true
   },
   "outputs": [],
   "source": []
  },
  {
   "cell_type": "code",
   "execution_count": null,
   "metadata": {
    "collapsed": true
   },
   "outputs": [],
   "source": []
  },
  {
   "cell_type": "code",
   "execution_count": null,
   "metadata": {
    "collapsed": true
   },
   "outputs": [],
   "source": []
  }
 ],
 "metadata": {
  "kernelspec": {
   "display_name": "Python 3",
   "language": "python",
   "name": "python3"
  },
  "language_info": {
   "codemirror_mode": {
    "name": "ipython",
    "version": 3
   },
   "file_extension": ".py",
   "mimetype": "text/x-python",
   "name": "python",
   "nbconvert_exporter": "python",
   "pygments_lexer": "ipython3",
   "version": "3.6.0"
  }
 },
 "nbformat": 4,
 "nbformat_minor": 2
}
