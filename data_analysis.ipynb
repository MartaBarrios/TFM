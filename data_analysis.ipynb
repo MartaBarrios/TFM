{
 "cells": [
  {
   "cell_type": "code",
   "execution_count": 1,
   "metadata": {
    "collapsed": true
   },
   "outputs": [],
   "source": [
    "# Import libraries\n",
    "import pandas as pd\n",
    "import numpy as np\n",
    "import matplotlib.pyplot as plt\n",
    "import glob "
   ]
  },
  {
   "cell_type": "code",
   "execution_count": 2,
   "metadata": {
    "collapsed": false
   },
   "outputs": [
    {
     "name": "stderr",
     "output_type": "stream",
     "text": [
      "/Users/martabarrios/anaconda/lib/python3.6/site-packages/IPython/core/interactiveshell.py:2717: DtypeWarning: Columns (40,85) have mixed types. Specify dtype option on import or set low_memory=False.\n",
      "  interactivity=interactivity, compiler=compiler, result=result)\n",
      "/Users/martabarrios/anaconda/lib/python3.6/site-packages/IPython/core/interactiveshell.py:2717: DtypeWarning: Columns (40) have mixed types. Specify dtype option on import or set low_memory=False.\n",
      "  interactivity=interactivity, compiler=compiler, result=result)\n",
      "/Users/martabarrios/anaconda/lib/python3.6/site-packages/IPython/core/interactiveshell.py:2717: DtypeWarning: Columns (43,88) have mixed types. Specify dtype option on import or set low_memory=False.\n",
      "  interactivity=interactivity, compiler=compiler, result=result)\n",
      "/Users/martabarrios/anaconda/lib/python3.6/site-packages/IPython/core/interactiveshell.py:2717: DtypeWarning: Columns (85) have mixed types. Specify dtype option on import or set low_memory=False.\n",
      "  interactivity=interactivity, compiler=compiler, result=result)\n",
      "/Users/martabarrios/anaconda/lib/python3.6/site-packages/IPython/core/interactiveshell.py:2717: DtypeWarning: Columns (88) have mixed types. Specify dtype option on import or set low_memory=False.\n",
      "  interactivity=interactivity, compiler=compiler, result=result)\n"
     ]
    }
   ],
   "source": [
    "# Get a list of all .csv's in listings folder \n",
    "csv_list = glob.glob('Data/listings/*.csv')\n",
    "# Load .csv's and create list of df's\n",
    "dataframes_list = list()\n",
    "for file in csv_list:\n",
    "    dataframe = pd.read_csv(file)\n",
    "    dataframes_list.append(dataframe)"
   ]
  },
  {
   "cell_type": "code",
   "execution_count": 3,
   "metadata": {
    "collapsed": false
   },
   "outputs": [],
   "source": [
    "concat_df = pd.concat(dataframes_list, ignore_index=True)"
   ]
  },
  {
   "cell_type": "code",
   "execution_count": 4,
   "metadata": {
    "collapsed": false
   },
   "outputs": [
    {
     "data": {
      "text/html": [
       "<div>\n",
       "<table border=\"1\" class=\"dataframe\">\n",
       "  <thead>\n",
       "    <tr style=\"text-align: right;\">\n",
       "      <th></th>\n",
       "      <th>id</th>\n",
       "      <th>listing_url</th>\n",
       "      <th>scrape_id</th>\n",
       "      <th>last_scraped</th>\n",
       "      <th>name</th>\n",
       "      <th>summary</th>\n",
       "      <th>space</th>\n",
       "      <th>description</th>\n",
       "      <th>experiences_offered</th>\n",
       "      <th>neighborhood_overview</th>\n",
       "      <th>...</th>\n",
       "      <th>review_scores_value</th>\n",
       "      <th>requires_license</th>\n",
       "      <th>license</th>\n",
       "      <th>jurisdiction_names</th>\n",
       "      <th>instant_bookable</th>\n",
       "      <th>cancellation_policy</th>\n",
       "      <th>require_guest_profile_picture</th>\n",
       "      <th>require_guest_phone_verification</th>\n",
       "      <th>calculated_host_listings_count</th>\n",
       "      <th>reviews_per_month</th>\n",
       "    </tr>\n",
       "  </thead>\n",
       "  <tbody>\n",
       "    <tr>\n",
       "      <th>0</th>\n",
       "      <td>4717459</td>\n",
       "      <td>https://www.airbnb.com/rooms/4717459</td>\n",
       "      <td>20161001085131</td>\n",
       "      <td>2016-10-02</td>\n",
       "      <td>Large, Modern Apt near Times Square</td>\n",
       "      <td>Large modern studio located in a doorman build...</td>\n",
       "      <td>Large modern studio located in a doorman build...</td>\n",
       "      <td>Large modern studio located in a doorman build...</td>\n",
       "      <td>none</td>\n",
       "      <td>Hell's Kitchen is located in Midtown West, ste...</td>\n",
       "      <td>...</td>\n",
       "      <td>10.0</td>\n",
       "      <td>f</td>\n",
       "      <td>NaN</td>\n",
       "      <td>NaN</td>\n",
       "      <td>f</td>\n",
       "      <td>strict</td>\n",
       "      <td>f</td>\n",
       "      <td>f</td>\n",
       "      <td>1</td>\n",
       "      <td>0.09</td>\n",
       "    </tr>\n",
       "    <tr>\n",
       "      <th>1</th>\n",
       "      <td>9436049</td>\n",
       "      <td>https://www.airbnb.com/rooms/9436049</td>\n",
       "      <td>20161001085131</td>\n",
       "      <td>2016-10-02</td>\n",
       "      <td>Huge room with private bathroom</td>\n",
       "      <td>Welcome to Brooklyn! The room is huge, has a q...</td>\n",
       "      <td>You will be sharing the apartment with my two ...</td>\n",
       "      <td>Welcome to Brooklyn! The room is huge, has a q...</td>\n",
       "      <td>none</td>\n",
       "      <td>Bed-Stuy is the the new gem of Brooklyn. Get t...</td>\n",
       "      <td>...</td>\n",
       "      <td>NaN</td>\n",
       "      <td>f</td>\n",
       "      <td>NaN</td>\n",
       "      <td>NaN</td>\n",
       "      <td>f</td>\n",
       "      <td>moderate</td>\n",
       "      <td>f</td>\n",
       "      <td>f</td>\n",
       "      <td>1</td>\n",
       "      <td>NaN</td>\n",
       "    </tr>\n",
       "    <tr>\n",
       "      <th>2</th>\n",
       "      <td>6028165</td>\n",
       "      <td>https://www.airbnb.com/rooms/6028165</td>\n",
       "      <td>20161001085131</td>\n",
       "      <td>2016-10-02</td>\n",
       "      <td>BOHEMIAN CHIC* 1BR* OURDOOR AREA</td>\n",
       "      <td>Queen sized bed, outdoor area, great location.</td>\n",
       "      <td>Located on the border of Chinatown and Lower E...</td>\n",
       "      <td>Queen sized bed, outdoor area, great location....</td>\n",
       "      <td>none</td>\n",
       "      <td>NaN</td>\n",
       "      <td>...</td>\n",
       "      <td>10.0</td>\n",
       "      <td>f</td>\n",
       "      <td>NaN</td>\n",
       "      <td>NaN</td>\n",
       "      <td>f</td>\n",
       "      <td>strict</td>\n",
       "      <td>f</td>\n",
       "      <td>f</td>\n",
       "      <td>1</td>\n",
       "      <td>0.22</td>\n",
       "    </tr>\n",
       "    <tr>\n",
       "      <th>3</th>\n",
       "      <td>5604005</td>\n",
       "      <td>https://www.airbnb.com/rooms/5604005</td>\n",
       "      <td>20161001085131</td>\n",
       "      <td>2016-10-02</td>\n",
       "      <td>Make Yourself At Home NYC</td>\n",
       "      <td>Clean Spacious Modern 'Newly' Renovated 2 Bedr...</td>\n",
       "      <td>Clean Spacious Modern 'Newly' Renovated 2 Bedr...</td>\n",
       "      <td>Clean Spacious Modern 'Newly' Renovated 2 Bedr...</td>\n",
       "      <td>none</td>\n",
       "      <td>Its in a Very Busy well Lit Area ,Plenty of Re...</td>\n",
       "      <td>...</td>\n",
       "      <td>9.0</td>\n",
       "      <td>f</td>\n",
       "      <td>NaN</td>\n",
       "      <td>NaN</td>\n",
       "      <td>f</td>\n",
       "      <td>moderate</td>\n",
       "      <td>f</td>\n",
       "      <td>f</td>\n",
       "      <td>1</td>\n",
       "      <td>2.06</td>\n",
       "    </tr>\n",
       "    <tr>\n",
       "      <th>4</th>\n",
       "      <td>11271036</td>\n",
       "      <td>https://www.airbnb.com/rooms/11271036</td>\n",
       "      <td>20161001085131</td>\n",
       "      <td>2016-10-02</td>\n",
       "      <td>Room in East Harlem</td>\n",
       "      <td>Master bedroom (10x12 ft) in true 3 bedroom / ...</td>\n",
       "      <td>Master bedroom (10x12) in true 3 bedroom / 1.5...</td>\n",
       "      <td>Master bedroom (10x12 ft) in true 3 bedroom / ...</td>\n",
       "      <td>none</td>\n",
       "      <td>NaN</td>\n",
       "      <td>...</td>\n",
       "      <td>10.0</td>\n",
       "      <td>f</td>\n",
       "      <td>NaN</td>\n",
       "      <td>NaN</td>\n",
       "      <td>f</td>\n",
       "      <td>flexible</td>\n",
       "      <td>f</td>\n",
       "      <td>f</td>\n",
       "      <td>1</td>\n",
       "      <td>0.14</td>\n",
       "    </tr>\n",
       "  </tbody>\n",
       "</table>\n",
       "<p>5 rows × 95 columns</p>\n",
       "</div>"
      ],
      "text/plain": [
       "         id                            listing_url       scrape_id  \\\n",
       "0   4717459   https://www.airbnb.com/rooms/4717459  20161001085131   \n",
       "1   9436049   https://www.airbnb.com/rooms/9436049  20161001085131   \n",
       "2   6028165   https://www.airbnb.com/rooms/6028165  20161001085131   \n",
       "3   5604005   https://www.airbnb.com/rooms/5604005  20161001085131   \n",
       "4  11271036  https://www.airbnb.com/rooms/11271036  20161001085131   \n",
       "\n",
       "  last_scraped                                 name  \\\n",
       "0   2016-10-02  Large, Modern Apt near Times Square   \n",
       "1   2016-10-02      Huge room with private bathroom   \n",
       "2   2016-10-02     BOHEMIAN CHIC* 1BR* OURDOOR AREA   \n",
       "3   2016-10-02            Make Yourself At Home NYC   \n",
       "4   2016-10-02                  Room in East Harlem   \n",
       "\n",
       "                                             summary  \\\n",
       "0  Large modern studio located in a doorman build...   \n",
       "1  Welcome to Brooklyn! The room is huge, has a q...   \n",
       "2     Queen sized bed, outdoor area, great location.   \n",
       "3  Clean Spacious Modern 'Newly' Renovated 2 Bedr...   \n",
       "4  Master bedroom (10x12 ft) in true 3 bedroom / ...   \n",
       "\n",
       "                                               space  \\\n",
       "0  Large modern studio located in a doorman build...   \n",
       "1  You will be sharing the apartment with my two ...   \n",
       "2  Located on the border of Chinatown and Lower E...   \n",
       "3  Clean Spacious Modern 'Newly' Renovated 2 Bedr...   \n",
       "4  Master bedroom (10x12) in true 3 bedroom / 1.5...   \n",
       "\n",
       "                                         description experiences_offered  \\\n",
       "0  Large modern studio located in a doorman build...                none   \n",
       "1  Welcome to Brooklyn! The room is huge, has a q...                none   \n",
       "2  Queen sized bed, outdoor area, great location....                none   \n",
       "3  Clean Spacious Modern 'Newly' Renovated 2 Bedr...                none   \n",
       "4  Master bedroom (10x12 ft) in true 3 bedroom / ...                none   \n",
       "\n",
       "                               neighborhood_overview        ...          \\\n",
       "0  Hell's Kitchen is located in Midtown West, ste...        ...           \n",
       "1  Bed-Stuy is the the new gem of Brooklyn. Get t...        ...           \n",
       "2                                                NaN        ...           \n",
       "3  Its in a Very Busy well Lit Area ,Plenty of Re...        ...           \n",
       "4                                                NaN        ...           \n",
       "\n",
       "  review_scores_value requires_license license jurisdiction_names  \\\n",
       "0                10.0                f     NaN                NaN   \n",
       "1                 NaN                f     NaN                NaN   \n",
       "2                10.0                f     NaN                NaN   \n",
       "3                 9.0                f     NaN                NaN   \n",
       "4                10.0                f     NaN                NaN   \n",
       "\n",
       "  instant_bookable cancellation_policy require_guest_profile_picture  \\\n",
       "0                f              strict                             f   \n",
       "1                f            moderate                             f   \n",
       "2                f              strict                             f   \n",
       "3                f            moderate                             f   \n",
       "4                f            flexible                             f   \n",
       "\n",
       "  require_guest_phone_verification calculated_host_listings_count  \\\n",
       "0                                f                              1   \n",
       "1                                f                              1   \n",
       "2                                f                              1   \n",
       "3                                f                              1   \n",
       "4                                f                              1   \n",
       "\n",
       "   reviews_per_month  \n",
       "0               0.09  \n",
       "1                NaN  \n",
       "2               0.22  \n",
       "3               2.06  \n",
       "4               0.14  \n",
       "\n",
       "[5 rows x 95 columns]"
      ]
     },
     "execution_count": 4,
     "metadata": {},
     "output_type": "execute_result"
    }
   ],
   "source": [
    "dataframe.head()"
   ]
  },
  {
   "cell_type": "markdown",
   "metadata": {},
   "source": [
    "# Which columns are we going to use? "
   ]
  },
  {
   "cell_type": "code",
   "execution_count": 5,
   "metadata": {
    "collapsed": false
   },
   "outputs": [
    {
     "data": {
      "text/plain": [
       "(39553, 95)"
      ]
     },
     "execution_count": 5,
     "metadata": {},
     "output_type": "execute_result"
    }
   ],
   "source": [
    "dataframe.shape"
   ]
  },
  {
   "cell_type": "code",
   "execution_count": 7,
   "metadata": {
    "collapsed": false
   },
   "outputs": [
    {
     "data": {
      "text/plain": [
       "['id',\n",
       " 'listing_url',\n",
       " 'scrape_id',\n",
       " 'last_scraped',\n",
       " 'name',\n",
       " 'summary',\n",
       " 'space',\n",
       " 'description',\n",
       " 'experiences_offered',\n",
       " 'neighborhood_overview',\n",
       " 'notes',\n",
       " 'transit',\n",
       " 'access',\n",
       " 'interaction',\n",
       " 'house_rules',\n",
       " 'thumbnail_url',\n",
       " 'medium_url',\n",
       " 'picture_url',\n",
       " 'xl_picture_url',\n",
       " 'host_id',\n",
       " 'host_url',\n",
       " 'host_name',\n",
       " 'host_since',\n",
       " 'host_location',\n",
       " 'host_about',\n",
       " 'host_response_time',\n",
       " 'host_response_rate',\n",
       " 'host_acceptance_rate',\n",
       " 'host_is_superhost',\n",
       " 'host_thumbnail_url',\n",
       " 'host_picture_url',\n",
       " 'host_neighbourhood',\n",
       " 'host_listings_count',\n",
       " 'host_total_listings_count',\n",
       " 'host_verifications',\n",
       " 'host_has_profile_pic',\n",
       " 'host_identity_verified',\n",
       " 'street',\n",
       " 'neighbourhood',\n",
       " 'neighbourhood_cleansed',\n",
       " 'neighbourhood_group_cleansed',\n",
       " 'city',\n",
       " 'state',\n",
       " 'zipcode',\n",
       " 'market',\n",
       " 'smart_location',\n",
       " 'country_code',\n",
       " 'country',\n",
       " 'latitude',\n",
       " 'longitude',\n",
       " 'is_location_exact',\n",
       " 'property_type',\n",
       " 'room_type',\n",
       " 'accommodates',\n",
       " 'bathrooms',\n",
       " 'bedrooms',\n",
       " 'beds',\n",
       " 'bed_type',\n",
       " 'amenities',\n",
       " 'square_feet',\n",
       " 'price',\n",
       " 'weekly_price',\n",
       " 'monthly_price',\n",
       " 'security_deposit',\n",
       " 'cleaning_fee',\n",
       " 'guests_included',\n",
       " 'extra_people',\n",
       " 'minimum_nights',\n",
       " 'maximum_nights',\n",
       " 'calendar_updated',\n",
       " 'has_availability',\n",
       " 'availability_30',\n",
       " 'availability_60',\n",
       " 'availability_90',\n",
       " 'availability_365',\n",
       " 'calendar_last_scraped',\n",
       " 'number_of_reviews',\n",
       " 'first_review',\n",
       " 'last_review',\n",
       " 'review_scores_rating',\n",
       " 'review_scores_accuracy',\n",
       " 'review_scores_cleanliness',\n",
       " 'review_scores_checkin',\n",
       " 'review_scores_communication',\n",
       " 'review_scores_location',\n",
       " 'review_scores_value',\n",
       " 'requires_license',\n",
       " 'license',\n",
       " 'jurisdiction_names',\n",
       " 'instant_bookable',\n",
       " 'cancellation_policy',\n",
       " 'require_guest_profile_picture',\n",
       " 'require_guest_phone_verification',\n",
       " 'calculated_host_listings_count',\n",
       " 'reviews_per_month']"
      ]
     },
     "execution_count": 7,
     "metadata": {},
     "output_type": "execute_result"
    }
   ],
   "source": [
    "list(dataframe)"
   ]
  },
  {
   "cell_type": "code",
   "execution_count": 58,
   "metadata": {
    "collapsed": false
   },
   "outputs": [
    {
     "data": {
      "text/plain": [
       "array(['f', 't'], dtype=object)"
      ]
     },
     "execution_count": 58,
     "metadata": {},
     "output_type": "execute_result"
    }
   ],
   "source": [
    "dataframe['require_guest_phone_verification'].unique()"
   ]
  },
  {
   "cell_type": "code",
   "execution_count": null,
   "metadata": {
    "collapsed": false,
    "scrolled": false
   },
   "outputs": [],
   "source": [
    "dataframe.shape[0] - (dataframe['host_listings_count'] == dataframe['host_total_listings_count']).sum()"
   ]
  },
  {
   "cell_type": "code",
   "execution_count": null,
   "metadata": {
    "collapsed": false
   },
   "outputs": [],
   "source": [
    "dataframe.shape[0]"
   ]
  },
  {
   "cell_type": "code",
   "execution_count": null,
   "metadata": {
    "collapsed": true
   },
   "outputs": [],
   "source": []
  },
  {
   "cell_type": "code",
   "execution_count": null,
   "metadata": {
    "collapsed": true
   },
   "outputs": [],
   "source": []
  },
  {
   "cell_type": "code",
   "execution_count": 11,
   "metadata": {
    "collapsed": true
   },
   "outputs": [],
   "source": [
    "selected_columns = ['id',\n",
    " #'listing_url',\n",
    " #'scrape_id',\n",
    " 'last_scraped',\n",
    " #'name',\n",
    " #'summary',\n",
    " #'space',\n",
    " #'description',\n",
    " #'experiences_offered',\n",
    " #'neighborhood_overview',\n",
    " #'notes',\n",
    " #'transit',\n",
    " #'access',\n",
    " #'interaction',\n",
    " #'house_rules',\n",
    " #'thumbnail_url',\n",
    " #'medium_url',\n",
    " #'picture_url',\n",
    " #'xl_picture_url',\n",
    " 'host_id',\n",
    " #'host_url',\n",
    " #'host_name',\n",
    " 'host_since',\n",
    " #'host_location',\n",
    " #'host_about',\n",
    " 'host_response_time',\n",
    " 'host_response_rate',\n",
    " #'host_acceptance_rate',\n",
    " 'host_is_superhost',\n",
    " #'host_thumbnail_url',\n",
    " #'host_picture_url',\n",
    " #'host_neighbourhood',\n",
    " #'host_listings_count',\n",
    " #'host_total_listings_count',\n",
    " 'host_verifications',\n",
    " 'host_has_profile_pic',\n",
    " 'host_identity_verified',\n",
    " 'street',\n",
    " #'neighbourhood',\n",
    " 'neighbourhood_cleansed',\n",
    " 'neighbourhood_group_cleansed',\n",
    " #'city',\n",
    " #'state',\n",
    " 'zipcode',\n",
    " #'market',\n",
    " #'smart_location',\n",
    " #'country_code',\n",
    " 'country',\n",
    " 'latitude',\n",
    " 'longitude',\n",
    " 'is_location_exact',\n",
    " 'property_type',\n",
    " 'room_type',\n",
    " 'accommodates',\n",
    " 'bathrooms',\n",
    " 'bedrooms',\n",
    " 'beds',\n",
    " 'bed_type',\n",
    " 'amenities',\n",
    " 'square_feet',\n",
    " 'price',\n",
    " 'weekly_price',\n",
    " 'monthly_price',\n",
    " 'security_deposit',\n",
    " #'cleaning_fee',\n",
    " 'guests_included',\n",
    " 'extra_people',\n",
    " 'minimum_nights',\n",
    " 'maximum_nights',\n",
    " #'calendar_updated',\n",
    " #'has_availability',\n",
    " 'availability_30',\n",
    " 'availability_60',\n",
    " 'availability_90',\n",
    " 'availability_365',\n",
    " #'calendar_last_scraped',\n",
    " 'number_of_reviews',\n",
    " #'first_review',\n",
    " #'last_review',\n",
    " 'review_scores_rating',\n",
    " 'review_scores_accuracy',\n",
    " 'review_scores_cleanliness',\n",
    " 'review_scores_checkin',\n",
    " 'review_scores_communication',\n",
    " 'review_scores_location',\n",
    " 'review_scores_value',\n",
    " #'requires_license',\n",
    " #'license',\n",
    " #'jurisdiction_names',\n",
    " 'instant_bookable',\n",
    " 'cancellation_policy',\n",
    " 'require_guest_profile_picture',\n",
    " 'require_guest_phone_verification'\n",
    " #'calculated_host_listings_count',\n",
    " #'reviews_per_month'\n",
    "]"
   ]
  },
  {
   "cell_type": "code",
   "execution_count": 14,
   "metadata": {
    "collapsed": false
   },
   "outputs": [
    {
     "data": {
      "text/plain": [
       "(39553, 52)"
      ]
     },
     "execution_count": 14,
     "metadata": {},
     "output_type": "execute_result"
    }
   ],
   "source": [
    "dataframe.loc[:, selected_columns].shape"
   ]
  },
  {
   "cell_type": "markdown",
   "metadata": {
    "collapsed": true
   },
   "source": []
  }
 ],
 "metadata": {
  "kernelspec": {
   "display_name": "Python 3",
   "language": "python",
   "name": "python3"
  },
  "language_info": {
   "codemirror_mode": {
    "name": "ipython",
    "version": 3
   },
   "file_extension": ".py",
   "mimetype": "text/x-python",
   "name": "python",
   "nbconvert_exporter": "python",
   "pygments_lexer": "ipython3",
   "version": "3.6.0"
  }
 },
 "nbformat": 4,
 "nbformat_minor": 2
}
